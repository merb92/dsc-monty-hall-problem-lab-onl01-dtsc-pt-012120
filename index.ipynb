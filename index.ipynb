{
 "cells": [
  {
   "cell_type": "markdown",
   "metadata": {},
   "source": [
    "# The Monty Hall Problem\n",
    "\n",
    "## Introduction\n",
    "\n",
    "The Monty Hall problem is a famous little puzzle from a game show. It goes like this: you are presented with 3 doors. Behind two are goats and behind the third is a car. You are asked to select a door; if you select the door with the car, you win! After selecting, the host then opens one of the remaining two doors, revealing a goat. The host then asks if you would like to switch doors or stick with your original choice. What would you do? Does it matter?\n",
    "\n",
    "<img src=\"images/Image_58_MontyHall.png\">\n",
    "\n",
    "## Objectives\n",
    "\n",
    "In this lab you will:\n",
    "\n",
    "- Use Bayes' theorem along with a simulation to solve the Monty Hall problem"
   ]
  },
  {
   "cell_type": "markdown",
   "metadata": {},
   "source": [
    "## Run a simulation\n",
    "\n",
    "This is not a traditional application of Bayes' theorem, so trying to formulate the problem as such is tricky at best. That said, the scenario does capture the motivating conception behind Bayesian statistics: updating our beliefs in the face of additional evidence. With this, you'll employ another frequently used tool Bayesians frequently employ, running simulations. \n",
    "To do this, \n",
    "* generate a random integer between one and three to represent the door hiding the car. \n",
    "* Then, generate a second integer between one and three representing the player's selection. \n",
    "* Then, of those the contestant did not choose, select a door concealing a goat to reveal. \n",
    "\n",
    "Record the results of the simulated game if they changed versus if they did not. \n",
    "\n",
    "Repeat this process a thousand (or more) times. \n",
    "\n",
    "Finally, plot the results of your simulation as a line graph. The x-axis should be the number of simulations, and the y-axis should be the probability of winning. (There should be two lines on the graph, one for switching doors, and the other for keeping the original selection.)"
   ]
  },
  {
   "cell_type": "code",
   "execution_count": 102,
   "metadata": {
    "ExecuteTime": {
     "end_time": "2020-04-07T16:05:53.120662Z",
     "start_time": "2020-04-07T16:05:53.070362Z"
    }
   },
   "outputs": [],
   "source": [
    "import numpy as np\n",
    "import matplotlib.pyplot as plt\n",
    "%matplotlib inline"
   ]
  },
  {
   "cell_type": "code",
   "execution_count": 2,
   "metadata": {
    "ExecuteTime": {
     "end_time": "2020-04-07T15:00:33.597856Z",
     "start_time": "2020-04-07T15:00:33.594235Z"
    }
   },
   "outputs": [],
   "source": [
    "np.random.seed(5)"
   ]
  },
  {
   "cell_type": "code",
   "execution_count": 118,
   "metadata": {
    "ExecuteTime": {
     "end_time": "2020-04-07T16:14:43.345577Z",
     "start_time": "2020-04-07T16:14:43.341405Z"
    }
   },
   "outputs": [],
   "source": [
    "doors = np.array([1, 2, 3])\n",
    "switch_win = []\n",
    "no_switch_win = []\n",
    "n = 10**4"
   ]
  },
  {
   "cell_type": "code",
   "execution_count": 119,
   "metadata": {
    "ExecuteTime": {
     "end_time": "2020-04-07T16:14:46.092707Z",
     "start_time": "2020-04-07T16:14:43.970747Z"
    }
   },
   "outputs": [
    {
     "name": "stdout",
     "output_type": "stream",
     "text": [
      "Total games 10000\n",
      "Wins with no switch 3290, probability of winning 32.9%\n",
      "Wins with a switch 6710, probability of winning 67.10000000000001%\n"
     ]
    }
   ],
   "source": [
    "for i in range(n):\n",
    "    car_location = np.random.randint(1, 4, 1)\n",
    "    \n",
    "    goats = np.delete(doors, np.where(doors == car_location))\n",
    "\n",
    "    player_selection = np.random.randint(1, 4, 1)\n",
    "\n",
    "    # the host selects one of the doors with a goat, that is not one the player chose   \n",
    "    host_selection = np.random.choice(np.delete(goats, np.where(goats == player_selection)))\n",
    "\n",
    "    \n",
    "    # no switch \n",
    "    # the player chose the correct door on the first choice\n",
    "    if player_selection == car_location:\n",
    "        no_switch_win.append(1)\n",
    "        switch_win.append(0)\n",
    "        \n",
    "    # switch \n",
    "    # the remaining door the correct choice\n",
    "    remaining_door = np.delete(doors, np.where((doors == host_selection) | (doors == player_selection)))\n",
    "    if car_location == remaining_door:\n",
    "        no_switch_win.append(0)\n",
    "        switch_win.append(1)\n",
    "    \n",
    "print(f'Total games {n}')\n",
    "print(f'Wins with no switch {sum(no_switch_win)}, probability of winning {sum(no_switch_win) / n * 100}%')\n",
    "print(f'Wins with a switch {sum(switch_win)}, probability of winning {sum(switch_win) / n * 100}%')\n",
    "        \n",
    "\n"
   ]
  },
  {
   "cell_type": "code",
   "execution_count": 120,
   "metadata": {
    "ExecuteTime": {
     "end_time": "2020-04-07T16:14:59.204078Z",
     "start_time": "2020-04-07T16:14:47.773496Z"
    }
   },
   "outputs": [
    {
     "data": {
      "image/png": "[encoded data removed]",
      "text/plain": [
       "<Figure size 432x288 with 1 Axes>"
      ]
     },
     "metadata": {
      "needs_background": "light"
     },
     "output_type": "display_data"
    }
   ],
   "source": [
    "xs = range(1, n+1)\n",
    "ys1 = [np.mean(no_switch_win[:i]) for i in range(1,n+1)]\n",
    "plt.plot(xs, ys1, label='No Switch Win')\n",
    "\n",
    "ys2 = [np.mean(switch_win[:i]) for i in range(1,n+1)]\n",
    "plt.plot(xs, ys2, label='Switch Win')\n",
    "\n",
    "plt.title('Monty Hall Problem')\n",
    "plt.xlabel('Number of games')\n",
    "plt.ylabel('Probability of Winning')\n",
    "plt.legend()\n",
    "plt.show()"
   ]
  },
  {
   "cell_type": "markdown",
   "metadata": {},
   "source": [
    "## Summary\n",
    "\n",
    "In this lab, you further investigated the idea of Bayes' theorem and Bayesian statistics in general through the Monty Hall problem. Hopefully, this was an entertaining little experience! "
   ]
  }
 ],
 "metadata": {
  "kernelspec": {
   "display_name": "learn-env",
   "language": "python",
   "name": "learn-env"
  },
  "language_info": {
   "codemirror_mode": {
    "name": "ipython",
    "version": 3
   },
   "file_extension": ".py",
   "mimetype": "text/x-python",
   "name": "python",
   "nbconvert_exporter": "python",
   "pygments_lexer": "ipython3",
   "version": "3.6.9"
  },
  "toc": {
   "base_numbering": 1,
   "nav_menu": {},
   "number_sections": true,
   "sideBar": true,
   "skip_h1_title": false,
   "title_cell": "Table of Contents",
   "title_sidebar": "Contents",
   "toc_cell": false,
   "toc_position": {},
   "toc_section_display": true,
   "toc_window_display": false
  },
  "varInspector": {
   "cols": {
    "lenName": 16,
    "lenType": 16,
    "lenVar": 40
   },
   "kernels_config": {
    "python": {
     "delete_cmd_postfix": "",
     "delete_cmd_prefix": "del ",
     "library": "var_list.py",
     "varRefreshCmd": "print(var_dic_list())"
    },
    "r": {
     "delete_cmd_postfix": ") ",
     "delete_cmd_prefix": "rm(",
     "library": "var_list.r",
     "varRefreshCmd": "cat(var_dic_list()) "
    }
   },
   "types_to_exclude": [
    "module",
    "function",
    "builtin_function_or_method",
    "instance",
    "_Feature"
   ],
   "window_display": false
  }
 },
 "nbformat": 4,
 "nbformat_minor": 2
}
